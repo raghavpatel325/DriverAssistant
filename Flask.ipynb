{
  "cells": [
    {
      "cell_type": "code",
      "execution_count": null,
      "metadata": {
        "colab": {
          "background_save": true
        },
        "id": "kCXA14L1X5L_"
      },
      "outputs": [],
      "source": []
    },
    {
      "cell_type": "code",
      "execution_count": null,
      "metadata": {
        "colab": {
          "background_save": true
        },
        "id": "RMzzpAQEX5O4"
      },
      "outputs": [],
      "source": []
    },
    {
      "cell_type": "code",
      "execution_count": null,
      "metadata": {
        "colab": {
          "background_save": true,
          "base_uri": "https://localhost:8080/"
        },
        "id": "aPnH_QlonLa3",
        "outputId": "64b94fbe-6e08-4ffd-c22a-35cea20de955"
      },
      "outputs": [
        {
          "name": "stdout",
          "output_type": "stream",
          "text": [
            "Collecting pyngrok\n",
            "  Downloading pyngrok-7.1.2-py3-none-any.whl (22 kB)\n",
            "Requirement already satisfied: PyYAML>=5.1 in /usr/local/lib/python3.10/dist-packages (from pyngrok) (6.0.1)\n",
            "Installing collected packages: pyngrok\n",
            "Successfully installed pyngrok-7.1.2\n"
          ]
        }
      ],
      "source": [
        "!pip install pyngrok"
      ]
    },
    {
      "cell_type": "code",
      "execution_count": null,
      "metadata": {
        "colab": {
          "background_save": true
        },
        "id": "vgtJ7fEgnMnw"
      },
      "outputs": [],
      "source": [
        "from pyngrok import ngrok\n",
        "import pickle\n",
        "from flask import Flask, request, jsonify\n",
        "import pandas as pd"
      ]
    },
    {
      "cell_type": "code",
      "execution_count": null,
      "metadata": {
        "colab": {
          "background_save": true
        },
        "id": "G5tCXHpOnMq0"
      },
      "outputs": [],
      "source": []
    },
    {
      "cell_type": "code",
      "execution_count": null,
      "metadata": {
        "colab": {
          "background_save": true
        },
        "id": "mRP8hWYDnMub"
      },
      "outputs": [],
      "source": [
        "port_no = 5000"
      ]
    },
    {
      "cell_type": "code",
      "execution_count": null,
      "metadata": {
        "colab": {
          "background_save": true,
          "base_uri": "https://localhost:8080/"
        },
        "id": "CgARt7asnMxZ",
        "outputId": "073c6618-492a-4e2a-fb3b-6ea396c97df7"
      },
      "outputs": [
        {
          "name": "stdout",
          "output_type": "stream",
          "text": [
            "To acces the Gloable link please click https://5cdc-34-138-210-2.ngrok-free.app\n",
            " * Serving Flask app '__main__'\n",
            " * Debug mode: off\n"
          ]
        },
        {
          "name": "stderr",
          "output_type": "stream",
          "text": [
            "INFO:werkzeug:\u001b[31m\u001b[1mWARNING: This is a development server. Do not use it in a production deployment. Use a production WSGI server instead.\u001b[0m\n",
            " * Running on http://127.0.0.1:5000\n",
            "INFO:werkzeug:\u001b[33mPress CTRL+C to quit\u001b[0m\n",
            "INFO:werkzeug:127.0.0.1 - - [26/Feb/2024 09:32:01] \"\u001b[33mGET / HTTP/1.1\u001b[0m\" 404 -\n"
          ]
        },
        {
          "name": "stdout",
          "output_type": "stream",
          "text": [
            "{'AccX': 0.3, 'AccY': 0.3, 'AccZ': 18.7, 'GyroX': 7.2, 'GyroY': 0.3, 'GyroZ': 0.4}\n",
            "{'AccX': -1.5, 'AccY': 0.6, 'AccZ': -1.6, 'GyroX': 8.1, 'GyroY': 1.5, 'GyroZ': 0.6}\n"
          ]
        },
        {
          "name": "stderr",
          "output_type": "stream",
          "text": [
            "INFO:werkzeug:127.0.0.1 - - [26/Feb/2024 09:32:22] \"POST /predict HTTP/1.1\" 200 -\n",
            "INFO:werkzeug:127.0.0.1 - - [26/Feb/2024 09:32:22] \"POST /predict HTTP/1.1\" 200 -\n",
            "INFO:werkzeug:127.0.0.1 - - [26/Feb/2024 09:32:48] \"POST /predict HTTP/1.1\" 200 -\n",
            "INFO:werkzeug:127.0.0.1 - - [26/Feb/2024 09:32:49] \"POST /predict HTTP/1.1\" 200 -\n",
            "INFO:werkzeug:127.0.0.1 - - [26/Feb/2024 09:32:49] \"POST /predict HTTP/1.1\" 200 -\n"
          ]
        },
        {
          "name": "stdout",
          "output_type": "stream",
          "text": [
            "{'AccX': -2.0, 'AccY': 3.2, 'AccZ': 7.5, 'GyroX': 0.4, 'GyroY': -4.0, 'GyroZ': -1.3}\n",
            "{'AccX': -1.3, 'AccY': 2.0, 'AccZ': 0.3, 'GyroX': -1.5, 'GyroY': -4.3, 'GyroZ': 0.0}\n",
            "{'AccX': 0.5, 'AccY': -0.5, 'AccZ': 8.2, 'GyroX': -0.0, 'GyroY': -2.7, 'GyroZ': 1.6}\n"
          ]
        },
        {
          "name": "stderr",
          "output_type": "stream",
          "text": [
            "INFO:werkzeug:127.0.0.1 - - [26/Feb/2024 09:32:53] \"POST /predict HTTP/1.1\" 200 -\n",
            "INFO:werkzeug:127.0.0.1 - - [26/Feb/2024 09:32:53] \"POST /predict HTTP/1.1\" 200 -\n"
          ]
        },
        {
          "name": "stdout",
          "output_type": "stream",
          "text": [
            "{'AccX': 7.1, 'AccY': -0.4, 'AccZ': 18.5, 'GyroX': 6.0, 'GyroY': 0.7, 'GyroZ': -1.8}\n",
            "{'AccX': 4.2, 'AccY': -1.7, 'AccZ': 8.3, 'GyroX': 3.9, 'GyroY': -0.3, 'GyroZ': -1.4}\n"
          ]
        }
      ],
      "source": [
        "app = Flask(__name__)\n",
        "ngrok.set_auth_token(\"1iGZbEzkAg6KjvOxWxYSxSjWPa0_45h6HQ4cATQHfzDxY8GGG\")\n",
        "public_url =  ngrok.connect(port_no).public_url\n",
        "\n",
        "\n",
        "@app.route('/predict', methods=['POST'])\n",
        "def predict():\n",
        "    json_ = request.json\n",
        "    print(json_)\n",
        "    data = pd.DataFrame(json_, index=[0])\n",
        "\n",
        "    # Load your pre-trained model\n",
        "    model = pickle.load(open(\"model2.pkl\", \"rb\"))\n",
        "\n",
        "    # Make predictions\n",
        "    predictions = model.predict(data)\n",
        "    normal_alert = 'Normal'\n",
        "    aggressive_alert = 'Please Drive slow!'\n",
        "\n",
        "    if predictions[0] == 1:\n",
        "        return jsonify({'Alert': aggressive_alert})\n",
        "    else:\n",
        "        return \"0\"\n",
        "  #  #elif predictions[0] == 2:\n",
        "  #       return jsonify({'Alert': normal_alert})\n",
        "  #   else:\n",
        "  #       return jsonify({'OTHER': normal_alert}) \"\"\"\n",
        "\n",
        "@app.route('/hello', methods=['GET'])\n",
        "def hello():\n",
        "    return \"<p> RAGHAV </p>\"\n",
        "\n",
        "print(f\"To acces the Gloable link please click {public_url}\")\n",
        "\n",
        "\n",
        "app.run(port=port_no)"
      ]
    },
    {
      "cell_type": "code",
      "execution_count": null,
      "metadata": {
        "id": "vM2NZ5NznMzp"
      },
      "outputs": [],
      "source": []
    },
    {
      "cell_type": "code",
      "execution_count": null,
      "metadata": {
        "id": "0uJozSKAnM1N"
      },
      "outputs": [],
      "source": []
    },
    {
      "cell_type": "code",
      "execution_count": null,
      "metadata": {
        "id": "RYpzsBCQnM38"
      },
      "outputs": [],
      "source": []
    },
    {
      "cell_type": "code",
      "execution_count": null,
      "metadata": {
        "id": "sOUqFA1OnM54"
      },
      "outputs": [],
      "source": []
    },
    {
      "cell_type": "code",
      "execution_count": null,
      "metadata": {
        "id": "vvmiM1tHnM9w"
      },
      "outputs": [],
      "source": []
    }
  ],
  "metadata": {
    "colab": {
      "provenance": []
    },
    "kernelspec": {
      "display_name": "Python 3",
      "name": "python3"
    },
    "language_info": {
      "name": "python"
    }
  },
  "nbformat": 4,
  "nbformat_minor": 0
}